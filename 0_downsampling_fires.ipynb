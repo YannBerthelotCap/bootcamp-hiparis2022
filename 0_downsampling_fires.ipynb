{
 "cells": [
  {
   "cell_type": "code",
   "execution_count": 6,
   "metadata": {},
   "outputs": [],
   "source": [
    "import pandas as pd\n",
    "import matplotlib.pyplot as plt\n",
    "import numpy as np\n",
    "import sqlite3\n",
    "from typing import Tuple"
   ]
  },
  {
   "cell_type": "markdown",
   "metadata": {},
   "source": [
    "#### Step 1. Read initial dataset"
   ]
  },
  {
   "cell_type": "code",
   "execution_count": 7,
   "metadata": {},
   "outputs": [],
   "source": [
    "cnx = sqlite3.connect('./data/0_origin/fires/FPA_FOD_20170508.sqlite')\n",
    "fires_all = pd.read_sql_query(\"SELECT * FROM 'Fires'\", cnx)"
   ]
  },
  {
   "cell_type": "markdown",
   "metadata": {},
   "source": [
    "#### Step 2. Downsampling to reduce the number of records"
   ]
  },
  {
   "cell_type": "code",
   "execution_count": 8,
   "metadata": {},
   "outputs": [
    {
     "data": {
      "text/html": [
       "<div>\n",
       "<style scoped>\n",
       "    .dataframe tbody tr th:only-of-type {\n",
       "        vertical-align: middle;\n",
       "    }\n",
       "\n",
       "    .dataframe tbody tr th {\n",
       "        vertical-align: top;\n",
       "    }\n",
       "\n",
       "    .dataframe thead th {\n",
       "        text-align: right;\n",
       "    }\n",
       "</style>\n",
       "<table border=\"1\" class=\"dataframe\">\n",
       "  <thead>\n",
       "    <tr style=\"text-align: right;\">\n",
       "      <th></th>\n",
       "      <th>FIRE_YEAR</th>\n",
       "      <th>CUM SUM</th>\n",
       "    </tr>\n",
       "  </thead>\n",
       "  <tbody>\n",
       "    <tr>\n",
       "      <th>0</th>\n",
       "      <td>2015</td>\n",
       "      <td>74491</td>\n",
       "    </tr>\n",
       "    <tr>\n",
       "      <th>1</th>\n",
       "      <td>2014</td>\n",
       "      <td>142244</td>\n",
       "    </tr>\n",
       "    <tr>\n",
       "      <th>2</th>\n",
       "      <td>2013</td>\n",
       "      <td>207024</td>\n",
       "    </tr>\n",
       "    <tr>\n",
       "      <th>3</th>\n",
       "      <td>2012</td>\n",
       "      <td>279793</td>\n",
       "    </tr>\n",
       "    <tr>\n",
       "      <th>4</th>\n",
       "      <td>2011</td>\n",
       "      <td>370345</td>\n",
       "    </tr>\n",
       "    <tr>\n",
       "      <th>5</th>\n",
       "      <td>2010</td>\n",
       "      <td>450234</td>\n",
       "    </tr>\n",
       "    <tr>\n",
       "      <th>6</th>\n",
       "      <td>2009</td>\n",
       "      <td>528559</td>\n",
       "    </tr>\n",
       "  </tbody>\n",
       "</table>\n",
       "</div>"
      ],
      "text/plain": [
       "   FIRE_YEAR  CUM SUM\n",
       "0       2015    74491\n",
       "1       2014   142244\n",
       "2       2013   207024\n",
       "3       2012   279793\n",
       "4       2011   370345\n",
       "5       2010   450234\n",
       "6       2009   528559"
      ]
     },
     "metadata": {},
     "output_type": "display_data"
    }
   ],
   "source": [
    "def show_years_cumsum(fires_all: pd.DataFrame, nb: int = 7) -> None:\n",
    "    '''\n",
    "    Shows the number of records (cumulative sum) for the last 'nb' years\n",
    "    \n",
    "    Input:\n",
    "    fires_all (pd.DataFrame) : DataFrame with all fires\n",
    "    nb (int) : number of years to show\n",
    "    \n",
    "    Output:\n",
    "    None\n",
    "    '''\n",
    "    # See number of records per cumulative years (last nb years)\n",
    "    fires_year = fires_all.groupby(\"FIRE_YEAR\").agg({\"FOD_ID\": \"count\"}).sort_values(\"FIRE_YEAR\", ascending=False)\n",
    "    fires_year = fires_year.cumsum(axis=0)\n",
    "    fires_year = fires_year.reset_index()\n",
    "    fires_year.columns = [\"FIRE_YEAR\", \"CUM SUM\"]\n",
    "    display(fires_year.head(nb))\n",
    "\n",
    "show_years_cumsum(fires_all)"
   ]
  },
  {
   "cell_type": "markdown",
   "metadata": {},
   "source": [
    "#### Step 3. Data preparation: compute target values & split open and hidden data"
   ]
  },
  {
   "cell_type": "code",
   "execution_count": 9,
   "metadata": {},
   "outputs": [],
   "source": [
    "descr2cat = {\n",
    "    'Lightning': \"natural\",\n",
    "    'Structure': \"accidental\",\n",
    "    'Fireworks': \"accidental\",\n",
    "    'Powerline': \"accidental\",\n",
    "    'Railroad': \"accidental\",\n",
    "    'Smoking': \"accidental\",\n",
    "    'Children': \"accidental\",\n",
    "    'Campfire': \"accidental\",\n",
    "    'Equipment Use': \"accidental\",\n",
    "    'Debris Burning': \"accidental\",\n",
    "    'Arson': \"criminal\",\n",
    "    'Missing/Undefined': \"other\",\n",
    "    'Miscellaneous': \"other\"\n",
    "}\n",
    "\n",
    "cat2id = {\n",
    "    \"natural\": 0,\n",
    "    \"accidental\": 1,\n",
    "    \"criminal\": 2,\n",
    "    \"other\": 3\n",
    "}\n",
    "\n",
    "def downsampling(fires_all: pd.DataFrame, min_year_train: int) -> pd.DataFrame:\n",
    "    '''\n",
    "    Downsampling of all fires records, by keeping only occurences after min_year_train.\n",
    "    Remove useless columns.\n",
    "    \n",
    "    Input:\n",
    "    fires_all (pd.DataFrame) : DataFrame with all fires\n",
    "    min_year_train (int) : minimum year used for filtering for the train set, for students\n",
    "    \n",
    "    Output:\n",
    "    (pd.DataFrame) : DataFrame with features and target values after min_year_train\n",
    "    '''\n",
    "    # downsampling\n",
    "    fires = fires_all.loc[fires_all[\"FIRE_YEAR\"] >= min_year_train, :]\n",
    "\n",
    "    # change target values with only 4 categories (code and description)\n",
    "    fires[\"CAUSE_DESCR\"] = fires[\"STAT_CAUSE_DESCR\"].map(descr2cat)\n",
    "    fires[\"CAUSE_CODE\"] = fires[\"CAUSE_DESCR\"].map(cat2id)\n",
    "    fires = fires.drop(columns=[\"STAT_CAUSE_CODE\", \"STAT_CAUSE_DESCR\", \"OBJECTID\", \"FPA_ID\", \"Shape\"])\n",
    "    return fires\n",
    "\n",
    "def prep_train_test_datasets(fires: pd.DataFrame, min_year_test: int) -> Tuple[pd.DataFrame, pd.DataFrame, pd.DataFrame]:\n",
    "    '''\n",
    "    Create the train and test datasets.\n",
    "    The train dataset contains features and target values (except for the target values after min_year_test).\n",
    "    The test dataset contains target values after min_year_test.\n",
    "    \n",
    "    Input:\n",
    "    fires (pd.DataFrame) : DataFrame with all fires after min_year_train\n",
    "    min_year_test (int) : minimum year used for filtering for the test set (source of truth for target values)\n",
    "    \n",
    "    Output:\n",
    "    train (pd.DataFrame) : DataFrame with features starting from min_year_train, and target values (except after min_year_test)\n",
    "    test (pd.DataFrame) : DataFrame with target values after min_year_test\n",
    "    dummy_submission (pd.DataFrame) : DataFrame similar to the test, to give the structure of the submission file\n",
    "    '''\n",
    "\n",
    "    # create a train set (for students)\n",
    "    train = fires.copy()\n",
    "    for c in ['CAUSE_CODE', 'CAUSE_DESCR']:\n",
    "        train.loc[train[\"FIRE_YEAR\"] >= min_year_test, [c]] = np.nan # replace target values for test by \"NaN\"\n",
    "\n",
    "    # create a test set (source of truth)\n",
    "    test = fires.loc[fires[\"FIRE_YEAR\"] >= min_year_test, ['FOD_ID', 'CAUSE_CODE']].copy()\n",
    "\n",
    "    # create a dummy sample for submission\n",
    "    dummy_submission = test.copy()\n",
    "    dummy_submission[\"CAUSE_CODE\"] = 0\n",
    "    \n",
    "    return train, test, dummy_submission"
   ]
  },
  {
   "cell_type": "code",
   "execution_count": 11,
   "metadata": {},
   "outputs": [
    {
     "name": "stderr",
     "output_type": "stream",
     "text": [
      "c:\\Users\\fbettini\\AppData\\Local\\Programs\\Python\\Python37\\lib\\site-packages\\ipykernel_launcher.py:40: SettingWithCopyWarning: \n",
      "A value is trying to be set on a copy of a slice from a DataFrame.\n",
      "Try using .loc[row_indexer,col_indexer] = value instead\n",
      "\n",
      "See the caveats in the documentation: https://pandas.pydata.org/pandas-docs/stable/user_guide/indexing.html#returning-a-view-versus-a-copy\n",
      "c:\\Users\\fbettini\\AppData\\Local\\Programs\\Python\\Python37\\lib\\site-packages\\ipykernel_launcher.py:41: SettingWithCopyWarning: \n",
      "A value is trying to be set on a copy of a slice from a DataFrame.\n",
      "Try using .loc[row_indexer,col_indexer] = value instead\n",
      "\n",
      "See the caveats in the documentation: https://pandas.pydata.org/pandas-docs/stable/user_guide/indexing.html#returning-a-view-versus-a-copy\n"
     ]
    }
   ],
   "source": [
    "# create train and test datasets\n",
    "min_year_train = 2011\n",
    "min_year_test = 2015\n",
    "fires = downsampling(fires_all, min_year_train)\n",
    "train, test, dummy_submission = prep_train_test_datasets(fires, min_year_test)\n",
    "\n",
    "# save results\n",
    "train.to_csv(\"./data/1_raw/fires/fires_train.csv\", index=False)\n",
    "test.to_csv(\"./data/6_hidden/fires_test.csv\", index=False)\n",
    "dummy_submission.to_csv(\"./data/5_predictions/example_submission.csv\", index=False)"
   ]
  }
 ],
 "metadata": {
  "kernelspec": {
   "display_name": "Python 3.7.7 64-bit",
   "language": "python",
   "name": "python3"
  },
  "language_info": {
   "codemirror_mode": {
    "name": "ipython",
    "version": 3
   },
   "file_extension": ".py",
   "mimetype": "text/x-python",
   "name": "python",
   "nbconvert_exporter": "python",
   "pygments_lexer": "ipython3",
   "version": "3.7.7"
  },
  "orig_nbformat": 4,
  "vscode": {
   "interpreter": {
    "hash": "6f17db48aa853750bfee38181acc93506773951f4f6f179b65dfa4e5104417bd"
   }
  }
 },
 "nbformat": 4,
 "nbformat_minor": 2
}
