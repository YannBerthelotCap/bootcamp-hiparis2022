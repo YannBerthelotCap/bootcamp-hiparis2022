{
 "cells": [
  {
   "cell_type": "code",
   "execution_count": 1,
   "metadata": {},
   "outputs": [],
   "source": [
    "import pandas as pd\n",
    "import numpy as np\n",
    "from typing import Tuple"
   ]
  },
  {
   "cell_type": "markdown",
   "metadata": {},
   "source": [
    "#### Step 1. Prepare target value"
   ]
  },
  {
   "cell_type": "code",
   "execution_count": 2,
   "metadata": {},
   "outputs": [],
   "source": [
    "def define_target_value(fires:pd.DataFrame, sizes:list, states:pd.DataFrame, min_date:str, max_date:str) -> pd.DataFrame:\n",
    "    '''\n",
    "    Define target value for the second model, which predicts the appearance of a fire at a given date for a given state.\n",
    "    The final DataFrame contains one row per state and day, and a target value \"FIRE\":\n",
    "    - equals to 1 if there is a fire\n",
    "    - equals to 0 otherwise\n",
    "    \n",
    "    Input:\n",
    "    fires (pd.DataFrame) : DataFrame with all fires\n",
    "    sizes (list) : list of all fires sizes to consider\n",
    "    states (pd.DataFrame) : a DataFrame with one column corresponding to all US states\n",
    "    min_date (str) : minimum date for the output DataFrame\n",
    "    max_date (str) : maximum date for the output DataFrame\n",
    "    \n",
    "    Output:\n",
    "    (pd.DataFrame) : output DataFrame with the target value\n",
    "    '''\n",
    "    # aggregate per state and day\n",
    "    fires = fires.loc[fires[\"FIRE_SIZE_CLASS\"].isin(sizes), :] # keep selected sizes\n",
    "    fires[\"DISCOVERY_DATE\"] = pd.to_datetime(fires[\"DISCOVERY_DATE\"] - pd.Timestamp(0).to_julian_date(), unit='D')\n",
    "    fires_day = fires.groupby([\"STATE\", \"DISCOVERY_DATE\"]).agg({\"FOD_ID\": \"count\"}).reset_index()\n",
    "    fires_day[\"FIRE\"] = (fires_day[\"FOD_ID\"] > 0).astype(\"int\")\n",
    "    fires_day.drop(columns=[\"FOD_ID\"], inplace=True)\n",
    "\n",
    "    # compute all combinations\n",
    "    dates = pd.DataFrame(\n",
    "        pd.date_range(min_date,max_date,freq='d'),\n",
    "        columns=[\"DISCOVERY_DATE\"]\n",
    "    )\n",
    "    combinations = dates.merge(states, how=\"cross\")\n",
    "\n",
    "    # merge all combinations with fires\n",
    "    fires = pd.merge(combinations, fires_day, how=\"left\", on=[\"STATE\", \"DISCOVERY_DATE\"])\n",
    "    fires[\"FIRE\"] = fires[\"FIRE\"].fillna(0).astype(\"int\")\n",
    "    return fires"
   ]
  },
  {
   "cell_type": "code",
   "execution_count": 3,
   "metadata": {},
   "outputs": [],
   "source": [
    "def prep_train_test_datasets(fires: pd.DataFrame, min_year_test: int) -> Tuple[pd.DataFrame, pd.DataFrame, pd.DataFrame]:\n",
    "    '''\n",
    "    Create the train and test datasets.\n",
    "    The train dataset contains features and target values (except for the target values after min_year_test).\n",
    "    The test dataset contains target values after min_year_test.\n",
    "    \n",
    "    Input:\n",
    "    fires (pd.DataFrame) : DataFrame with all fires after min_year_train\n",
    "    min_year_test (int) : minimum year used for filtering for the test set (source of truth for target values)\n",
    "    \n",
    "    Output:\n",
    "    train (pd.DataFrame) : DataFrame with features starting from min_year_train, and target values (except after min_year_test)\n",
    "    test (pd.DataFrame) : DataFrame with target values after min_year_test\n",
    "    dummy_submission (pd.DataFrame) : DataFrame similar to the test, to give the structure of the submission file\n",
    "    '''\n",
    "\n",
    "    # create a train set (for students)\n",
    "    train = fires.copy()\n",
    "    train.loc[train[\"DISCOVERY_DATE\"] >= min_year_test, [\"FIRE\"]] = np.nan # replace target values for test by \"NaN\"\n",
    "\n",
    "    # create a test set (source of truth)\n",
    "    test = fires.loc[fires[\"DISCOVERY_DATE\"] >= min_year_test, ['FIRE']].copy()\n",
    "\n",
    "    # create a dummy sample for submission\n",
    "    dummy_submission = test.copy()\n",
    "    dummy_submission[\"FIRE\"] = 0\n",
    "    \n",
    "    return train, test, dummy_submission"
   ]
  },
  {
   "cell_type": "code",
   "execution_count": 4,
   "metadata": {},
   "outputs": [
    {
     "name": "stderr",
     "output_type": "stream",
     "text": [
      "c:\\Users\\fbettini\\AppData\\Local\\Programs\\Python\\Python37\\lib\\site-packages\\IPython\\core\\interactiveshell.py:3258: DtypeWarning: Columns (9,10,12,34) have mixed types.Specify dtype option on import or set low_memory=False.\n",
      "  interactivity=interactivity, compiler=compiler, result=result)\n",
      "c:\\Users\\fbettini\\AppData\\Local\\Programs\\Python\\Python37\\lib\\site-packages\\ipykernel_launcher.py:20: SettingWithCopyWarning: \n",
      "A value is trying to be set on a copy of a slice from a DataFrame.\n",
      "Try using .loc[row_indexer,col_indexer] = value instead\n",
      "\n",
      "See the caveats in the documentation: https://pandas.pydata.org/pandas-docs/stable/user_guide/indexing.html#returning-a-view-versus-a-copy\n"
     ]
    }
   ],
   "source": [
    "# inputs\n",
    "sizes=[\"B\", \"C\", \"D\", \"E\", \"F\", \"G\"]\n",
    "fires = pd.read_csv(\"./data/1_raw/fires/fires_train.csv\")\n",
    "states = fires[[\"STATE\"]].drop_duplicates()\n",
    "min_date = \"2011-01-01\"\n",
    "max_date = \"2015-12-31\"\n",
    "min_year_test = \"2015-01-01\"\n",
    "\n",
    "# get train, test and dummy_submission files\n",
    "fires = define_target_value(fires, sizes, states, min_date, max_date)\n",
    "train, test, dummy_submission = prep_train_test_datasets(fires, min_year_test)\n",
    "\n",
    "# save results\n",
    "train.to_csv(\"./data/1_raw/fires/fires_days_train.csv\", index=False)\n",
    "test.to_csv(\"./data/6_hidden/fires_days_test.csv\", index=False)\n",
    "dummy_submission.to_csv(\"./data/5_predictions/example_submission_model_2.csv\", index=False)"
   ]
  }
 ],
 "metadata": {
  "kernelspec": {
   "display_name": "Python 3 (ipykernel)",
   "language": "python",
   "name": "python3"
  },
  "language_info": {
   "codemirror_mode": {
    "name": "ipython",
    "version": 3
   },
   "file_extension": ".py",
   "mimetype": "text/x-python",
   "name": "python",
   "nbconvert_exporter": "python",
   "pygments_lexer": "ipython3",
   "version": "3.10.5"
  },
  "vscode": {
   "interpreter": {
    "hash": "6f17db48aa853750bfee38181acc93506773951f4f6f179b65dfa4e5104417bd"
   }
  }
 },
 "nbformat": 4,
 "nbformat_minor": 2
}
