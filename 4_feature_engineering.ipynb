{
 "cells": [
  {
   "cell_type": "code",
   "execution_count": 6,
   "metadata": {},
   "outputs": [],
   "source": [
    "import seaborn as sns\n",
    "import matplotlib.pyplot as plt\n",
    "import pandas as pd\n",
    "import numpy as np"
   ]
  },
  {
   "cell_type": "markdown",
   "metadata": {},
   "source": [
    "#### Step 1. Cleaning, Feature Engineering and Encoding"
   ]
  },
  {
   "cell_type": "code",
   "execution_count": 7,
   "metadata": {},
   "outputs": [],
   "source": [
    "def feature_engineering_external_data(external_data: pd.DataFrame) -> pd.DataFrame:\n",
    "    '''\n",
    "    Compute new features based on the original features from the external_data dataset.\n",
    "\n",
    "    Input:\n",
    "    external_data (pd.DataFrame): input DataFrame\n",
    "\n",
    "    Output:\n",
    "    (pd.DataFrame): DataFrame with additional features\n",
    "    '''\n",
    "    external_data = external_data.groupby([\"STATE_CODE\", \"Date\"]).agg({\n",
    "        \"tmax\":[\"mean\", \"max\", \"min\"],\n",
    "        \"tmin\":[\"mean\", \"max\", \"min\"],\n",
    "        \"prcp\":[\"mean\", \"max\", \"min\"],\n",
    "        \"Median Age\":\"mean\",\n",
    "        \"Total Population\": \"mean\",\n",
    "        \"Average Household Size\": \"mean\"\n",
    "    }).reset_index()\n",
    "    kpis = [\n",
    "        \"tmax_mean\", \"tmax_max\", \"tmax_min\", \"tmin_mean\",\n",
    "        \"tmin_max\", \"tmin_min\", \"prcp_mean\", \"prcp_max\",\n",
    "        \"prcp_min\", \"Median Age_mean\", \"Total Population_mean\",\n",
    "        \"Average Household Size_mean\"\n",
    "    ]\n",
    "    external_data.columns = [\"STATE_CODE\", \"Date\", *kpis]\n",
    "\n",
    "    external_data[\"delta_t\"] = external_data[\"tmax_mean\"] - external_data[\"tmin_mean\"]\n",
    "\n",
    "    return external_data\n",
    "\n",
    "\n",
    "def feature_engineering_fires(fires: pd.DataFrame, fires_days: pd.DataFrame) -> pd.DataFrame:\n",
    "    '''\n",
    "    Compute new features based on the original features from the fires dataset.\n",
    "\n",
    "    Input:\n",
    "    external_data (pd.DataFrame): input DataFrame\n",
    "\n",
    "    Output:\n",
    "    (pd.DataFrame): DataFrame with additional features\n",
    "    '''\n",
    "    # count the number of fire per day and state\n",
    "    fires_count = fires.groupby([\"DISCOVERY_DATE\", \"STATE\"]).agg({\"FOD_ID\":\"count\"}).reset_index()\n",
    "    fires_count.columns = [\"DISCOVERY_DATE\", \"STATE\", \"FIRE_COUNT\"]\n",
    "    combinations = fires_days[[\"DISCOVERY_DATE\", \"STATE\"]].copy()\n",
    "    fires_count = pd.merge(combinations, fires_count, how=\"left\", on=[\"DISCOVERY_DATE\", \"STATE\"])\n",
    "    fires_count[\"FIRE_COUNT\"] = fires_count[\"FIRE_COUNT\"].fillna(0).astype(\"int\")\n",
    "\n",
    "    # number of fires at t - 1 year, on a 1 month window, 1 week window and 1 day window\n",
    "    fires_count[\"FIRE_COUNT_Y1_M1\"] = fires_count.groupby([\"STATE\"])[[\"FIRE_COUNT\"]].transform(lambda x: x.shift(365).rolling(30).sum())\n",
    "    fires_count[\"FIRE_COUNT_Y1_W1\"] = fires_count.groupby([\"STATE\"])[[\"FIRE_COUNT\"]].transform(lambda x: x.shift(365).rolling(7).sum())\n",
    "    fires_count[\"FIRE_COUNT_Y1_D1\"] = fires_count.groupby([\"STATE\"])[[\"FIRE_COUNT\"]].transform(lambda x: x.shift(365))\n",
    "    return fires_count\n",
    "\n",
    "\n",
    "def feature_engineering_all(df:pd.DataFrame) -> pd.DataFrame:\n",
    "    '''\n",
    "    Encode categorical variables and fill na values\n",
    "    '''\n",
    "    # add dates\n",
    "    df[\"DISCOVERY_DOW\"] = df[\"DISCOVERY_DATE\"].dt.dayofweek\n",
    "    df[\"DISCOVERY_MONTH\"] = df[\"DISCOVERY_DATE\"].dt.month\n",
    "    df[\"DISCOVERY_DAY\"] = df[\"DISCOVERY_DATE\"].dt.day\n",
    "    # drop unused columns\n",
    "    df.drop(columns=[\"Date\", \"STATE_CODE\", \"FIRE_COUNT\"], inplace=True)\n",
    "    # fillna kpis from external data\n",
    "    cols_fillna = [\n",
    "        \"tmax_mean\", \"tmax_max\", \"tmax_min\", \"tmin_mean\",\n",
    "        \"tmin_max\", \"tmin_min\", \"prcp_mean\",\n",
    "        \"prcp_max\", \"prcp_min\", \"delta_t\",\n",
    "        \"Median Age_mean\", \"Total Population_mean\",\n",
    "        \"Average Household Size_mean\", \"FIRE_COUNT_Y1_M1\",\n",
    "        \"FIRE_COUNT_Y1_W1\", \"FIRE_COUNT_Y1_D1\"\n",
    "    ]\n",
    "    for c in cols_fillna:\n",
    "        df[c] = df[c].fillna(df[c].mean())\n",
    "\n",
    "    # encode state\n",
    "    data_cat = pd.get_dummies(df[\"STATE\"])\n",
    "    df = pd.concat([df, data_cat], axis=1)\n",
    "\n",
    "    return df"
   ]
  },
  {
   "cell_type": "code",
   "execution_count": 8,
   "metadata": {},
   "outputs": [],
   "source": [
    "# train_set\n",
    "fires_days = pd.read_csv(\"./data/1_raw/fires/fires_days_train.csv\", parse_dates=[\"DISCOVERY_DATE\"])\n",
    "\n",
    "# external_data\n",
    "external_data = pd.read_csv(\"./data/2_clean/external_data.csv\", parse_dates=[\"Date\"])\n",
    "external_data = feature_engineering_external_data(external_data)\n",
    "\n",
    "# fires data\n",
    "fires = pd.read_csv(\"./data/2_clean/fires.csv\", parse_dates=[\"DISCOVERY_DATE\"])\n",
    "fires_count = feature_engineering_fires(fires, fires_days)\n",
    "\n",
    "# merge\n",
    "fires_days = pd.merge(fires_days, external_data, how=\"left\", left_on=[\"STATE\", \"DISCOVERY_DATE\"], right_on=[\"STATE_CODE\", \"Date\"])\n",
    "fires_days = pd.merge(fires_days, fires_count, how=\"left\", on=[\"STATE\", \"DISCOVERY_DATE\"])\n",
    "\n",
    "# cleaning and encoding\n",
    "fires_days = feature_engineering_all(fires_days)\n",
    "\n",
    "# save to csv format\n",
    "fires_days.to_csv(\"./data/3_input_model/input_model.csv\", index=False)"
   ]
  }
 ],
 "metadata": {
  "kernelspec": {
   "display_name": "Python 3.7.7 64-bit",
   "language": "python",
   "name": "python3"
  },
  "language_info": {
   "codemirror_mode": {
    "name": "ipython",
    "version": 3
   },
   "file_extension": ".py",
   "mimetype": "text/x-python",
   "name": "python",
   "nbconvert_exporter": "python",
   "pygments_lexer": "ipython3",
   "version": "3.7.7"
  },
  "orig_nbformat": 4,
  "vscode": {
   "interpreter": {
    "hash": "6f17db48aa853750bfee38181acc93506773951f4f6f179b65dfa4e5104417bd"
   }
  }
 },
 "nbformat": 4,
 "nbformat_minor": 2
}
