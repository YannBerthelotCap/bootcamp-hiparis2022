{
 "cells": [
  {
   "cell_type": "markdown",
   "metadata": {},
   "source": [
    "# Setup"
   ]
  },
  {
   "cell_type": "markdown",
   "metadata": {},
   "source": [
    "## Imports"
   ]
  },
  {
   "cell_type": "code",
   "execution_count": 1,
   "metadata": {},
   "outputs": [],
   "source": [
    "import os\n",
    "import numpy as np\n",
    "import pandas as pd\n",
    "import plotly.express as px\n",
    "import geopandas as gpd\n",
    "import matplotlib.pyplot as plt\n",
    "import seaborn as sns\n",
    "%matplotlib inline"
   ]
  },
  {
   "cell_type": "markdown",
   "metadata": {},
   "source": [
    "## Files"
   ]
  },
  {
   "cell_type": "code",
   "execution_count": 2,
   "metadata": {},
   "outputs": [],
   "source": [
    "map_file = \"gz_2010_us_040_00_5m.json\" #source : https://eric.clst.org/tech/usgeojson/, I used US states 5m\n",
    "external_data = pd.read_csv(\"./data/2_clean/external_data.csv\")\n",
    "fires = pd.read_csv(\"./data/2_clean/fires.csv\")\n",
    "external_data[\"Date\"] = pd.to_datetime(external_data[\"Date\"])\n",
    "fires.DISCOVERY_TIME = pd.to_datetime(fires.DISCOVERY_TIME)\n",
    "sample = external_data.sample(n=int(1e5))"
   ]
  },
  {
   "cell_type": "markdown",
   "metadata": {},
   "source": [
    "# Goal"
   ]
  },
  {
   "cell_type": "markdown",
   "metadata": {},
   "source": [
    "The goal of this notebook is to visualy explore the data and plot relevant graphs to help you build insights on the business problem.\n",
    "Here is a list of various questions you can try to answer in this notebook (feel free to check them as you go, but you don't have to do them all, they are just guidelines) :\n",
    "- [ ] What are the names of the top 5 biggest fires in the data available?\n",
    "- [ ] Is there an evolution of temperatures and precipitation over the available years?\n",
    "- [ ] Are there different frequency or size of fires between states?\n",
    "- [ ] Are there differences in any nature between the different causes of fires? \n",
    "\n",
    "Any visualisation you deem interesting is worth trying, as long as you don't take the whole hands-on for a single one. You can use classic plots, map plots or animated points to help you build insights on how we can solve the problem and build meaningful features for our models.\n",
    "\n",
    "Do not hesitate to write some analysis with your graphs."
   ]
  },
  {
   "cell_type": "markdown",
   "metadata": {},
   "source": [
    "### Dependencies with previous Labs\n",
    "\n",
    "This lab uses datasets from previous Labs:\n",
    "- a cleaned dataset with all fires observed between 2011 and 2014 in the US `./data/2_clean/fires.csv`\n",
    "- a cleaned dataset with external data (demographics, temperature and precipitation) `./data/2_clean/external_data.csv`\n",
    "\n",
    "You can either:\n",
    "- [preferred option] start over from the work that you produced\n",
    "- or take pre-processed datasets located in `./data/9_helper_datasets`. In that case:\n",
    "    - `./data/9_helper_datasets/external_data.csv` should be **copied** (not deleted) to `./data/2_clean/external_data.csv`\n",
    "    - `./data/9_helper_datasets/fires.csv` should be **copied** (not deleted) to `./data/2_clean/fires.csv`"
   ]
  },
  {
   "cell_type": "markdown",
   "metadata": {},
   "source": [
    "### Helper functions\n",
    "Feel free to use them to help you build graphs without too much complexity\n",
    "Don't limit yourselves to just these however, you can experiment with pandas, matplotlib, plotly or seaborn as well."
   ]
  },
  {
   "cell_type": "code",
   "execution_count": 21,
   "metadata": {},
   "outputs": [],
   "source": [
    "def plot_per_year(df:pd.DataFrame, year_col:str, col:str, title:str)->None:\n",
    "    '''\n",
    "    Plot a categorical column by year in a stacked bar fashion (e.g. the repartition of fire causes per year)\n",
    "    \n",
    "    Input:\n",
    "    df (pd.DataFrame) : Input data\n",
    "    col (str) : Column from the dataframe to be used for plot, must be categorical type\n",
    "    year_col (str) : Column from the dataframe to be used for time indication\n",
    "    title (str) : Title of the graph\n",
    "    \n",
    "    Output:\n",
    "    None : it just shows the graph\n",
    "    '''\n",
    "    #################\n",
    "    # TO BE FILLED  #\n",
    "    #################\n",
    "\n",
    "def plot_by_hour(df:pd.DataFrame, col:str)->None:\n",
    "    '''\n",
    "    Plot a categorical column by hour accross the different years in a vertical bar fashion \n",
    "    (one bar representing one hour accross the whole year e.g. the average fire size per hour)\n",
    "    \n",
    "    Input:\n",
    "    df (pd.DataFrame) : Input data with col named \"year\"\n",
    "    col (str) : Column from the dataframe to be used for plot, must be categorical type\n",
    "    \n",
    "    Output:\n",
    "    None : it just shows the graph\n",
    "    '''\n",
    "    #################\n",
    "    # TO BE FILLED  #\n",
    "    #################\n"
   ]
  },
  {
   "cell_type": "markdown",
   "metadata": {},
   "source": [
    "# Data Visualization"
   ]
  },
  {
   "cell_type": "code",
   "execution_count": null,
   "metadata": {},
   "outputs": [],
   "source": []
  },
  {
   "cell_type": "code",
   "execution_count": null,
   "metadata": {},
   "outputs": [],
   "source": []
  },
  {
   "cell_type": "code",
   "execution_count": null,
   "metadata": {},
   "outputs": [],
   "source": []
  },
  {
   "cell_type": "code",
   "execution_count": null,
   "metadata": {},
   "outputs": [],
   "source": []
  },
  {
   "cell_type": "code",
   "execution_count": null,
   "metadata": {},
   "outputs": [],
   "source": []
  },
  {
   "cell_type": "code",
   "execution_count": null,
   "metadata": {},
   "outputs": [],
   "source": []
  },
  {
   "cell_type": "code",
   "execution_count": null,
   "metadata": {},
   "outputs": [],
   "source": []
  },
  {
   "cell_type": "markdown",
   "metadata": {},
   "source": [
    "### Benford's law"
   ]
  },
  {
   "cell_type": "code",
   "execution_count": 10,
   "metadata": {
    "scrolled": true
   },
   "outputs": [
    {
     "data": {
      "text/plain": [
       "<AxesSubplot:title={'center':'Distribution of first digits of fire sizes'}>"
      ]
     },
     "execution_count": 10,
     "metadata": {},
     "output_type": "execute_result"
    },
    {
     "data": {
      "image/png": "[encoded data removed]",
      "text/plain": [
       "<Figure size 432x288 with 1 Axes>"
      ]
     },
     "metadata": {
      "needs_background": "light"
     },
     "output_type": "display_data"
    }
   ],
   "source": [
    "# Check Benford's law to check for fraud in the data: https://en.wikipedia.org/wiki/Benford%27s_law\n"
   ]
  },
  {
   "cell_type": "markdown",
   "metadata": {},
   "source": [
    "### Get the US map with state delimitation"
   ]
  },
  {
   "cell_type": "code",
   "execution_count": 11,
   "metadata": {},
   "outputs": [],
   "source": [
    "world = gpd.read_file(gpd.datasets.get_path('naturalearth_lowres'))\n",
    "NA = world[world.continent==\"North America\"]\n",
    "USA = NA[NA.iso_a3 ==\"USA\"]"
   ]
  },
  {
   "cell_type": "code",
   "execution_count": 12,
   "metadata": {},
   "outputs": [],
   "source": [
    "# Rework the boundaries to remove Alaska and have a clearer view of the main part of the USA\n",
    "array = np.array([-130,22,-66,60])"
   ]
  },
  {
   "cell_type": "code",
   "execution_count": 13,
   "metadata": {},
   "outputs": [],
   "source": [
    "# TODO se baser sur les fichiers contenus dans './data/3_merge/xxx'\n",
    "# TODO à mettre dans un pipeline.py ou utils.py\n",
    "\n",
    "def animate_map(col:str, time_col:str, df:pd.DataFrame)->None:\n",
    "    '''\n",
    "    Animate a map over time of a numerical feature from the dataframe\n",
    "    \n",
    "    Input:\n",
    "    df (pd.DataFrame) : Input data with Lat, Lon\n",
    "    col (str) : Name of the column from the dataframe to be used for plot\n",
    "    time_col (str) : Name of the column representing timestamps to be used (Years is best)\n",
    "    \n",
    "    Output:\n",
    "    None : it just shows the graph\n",
    "    '''\n",
    "    fig = px.scatter_mapbox(df,\n",
    "              lat=\"Lat\" ,\n",
    "              lon=\"Lon\",\n",
    "              hover_name=col,\n",
    "              color=col,\n",
    "              animation_frame=time_col,\n",
    "              mapbox_style='carto-positron',\n",
    "              category_orders={\n",
    "              time_col:list(np.sort(df[time_col].unique()))\n",
    "              },                  \n",
    "              zoom=2,\n",
    "              range_color=[-20,150])\n",
    "    fig.show();\n",
    "\n",
    "def animate_curve(x:str,y:str, time_col:str, df:pd.DataFrame)->None:\n",
    "    '''\n",
    "    Animate a scatter plot over time of a numerical feature from the dataframe\n",
    "    \n",
    "    Input:\n",
    "    df (pd.DataFrame) : Input data with Lat, Lon\n",
    "    col (str) : Name of the column from the dataframe to be used for plot\n",
    "    time_col (str) : Name of the column representing timestamps to be used (Years is best)\n",
    "    \n",
    "    Output:\n",
    "    None : it just shows the graph\n",
    "    '''\n",
    "    fig = px.scatter(df,\n",
    "              x=x ,\n",
    "              y=y,\n",
    "              animation_frame=time_col,\n",
    "              category_orders={\n",
    "              time_col:list(np.sort(df[time_col].unique()))\n",
    "              },)\n",
    "    fig.show();\n",
    "\n",
    "def plot_map(df:pd.DataFrame, col:str, map_file:str)->None:\n",
    "    '''\n",
    "    Plot a static map of a categorical feature from the dataframe\n",
    "    \n",
    "    Input:\n",
    "    df (pd.DataFrame) : Input data with Lat, Lon\n",
    "    col (str) : Column from the dataframe to be used for plot\n",
    "    map_file (str) : path to the map file to be used as background.\n",
    "    \n",
    "    Output:\n",
    "    None : it just shows the graph\n",
    "    '''\n",
    "    \n",
    "    states_geojson = gpd.read_file(map_file)\n",
    "    fig, ax = plt.subplots(figsize = (10,8))\n",
    "    states_geojson.boundary.plot(ax = ax, edgecolor = 'black')\n",
    "    sns.scatterplot(df['Lon'], df['Lat'], marker = 'o', \n",
    "                    hue = df[col], ax = ax)\n",
    "\n",
    "    # move the legend to the right of the plot\n",
    "    ax.legend(loc = 'center right', bbox_to_anchor=(1.7, 0.5), ncol=1) \n",
    "    minx, miny, maxx, maxy = array\n",
    "    ax.set_xlim(minx, maxx)\n",
    "    ax.set_ylim(miny, maxy)\n",
    "    ax.axis('off')\n",
    "    plt.show()\n",
    "\n",
    "def plot_by_state_and_year(df:pd.DataFrame, col:str, rows:int=4)->None:\n",
    "    '''\n",
    "    Plot distribution of a numerical value accross available years for all states.\n",
    "    \n",
    "    Input:\n",
    "    df (pd.DataFrame) : Input data with col named \"year\"\n",
    "    col (str) : Column from the dataframe to be used for plot, must be numerical type\n",
    "    rows (int) : Number of graphs to be used to improve readability\n",
    "    \n",
    "    Output:\n",
    "    None : it just shows the graph\n",
    "    '''\n",
    "    fig,ax=plt.subplots(rows,1,figsize=(100/rows,10))\n",
    "    grouped = df.groupby(['year','State'])[col].mean()\n",
    "    max_val = grouped.max()\n",
    "    min_val = grouped.min()\n",
    "\n",
    "    for year in range(2011,2016):\n",
    "        sorted_grouped = grouped[year].sort_values()\n",
    "        batch = int(len(sorted_grouped.index)/rows)\n",
    "        ax[0].scatter(x=sorted_grouped.index[:batch],y=sorted_grouped.values[:batch])\n",
    "        for row in range(rows-1):\n",
    "            ax[row].scatter(x=sorted_grouped.index[batch*(row):batch*(row+1)],y=sorted_grouped.values[batch*(row):batch*(row+1)])\n",
    "        ax[rows-1].scatter(x=sorted_grouped.index[batch*(rows-1):],y=sorted_grouped.values[batch*(rows-1):])\n",
    "\n",
    "    for i in range(rows):\n",
    "        ax[i].set_ylim([min_val,max_val])\n",
    "\n",
    "def numerical_state_map(df:pd.DataFrame, col:str, title:str)->None:\n",
    "    '''\n",
    "    Plot a map of the USA with numerical information displayed as color per state\n",
    "    \n",
    "    Input:\n",
    "    df (pd.DataFrame) : Input data with 2 letters state codes as \"state_code\"\n",
    "    col (str) : Column from the dataframe to be used for plot, must be numerical type\n",
    "    title (str) : Title of the graph\n",
    "    \n",
    "    Output:\n",
    "    None : it just shows the graph\n",
    "    '''\n",
    "    fig = px.choropleth(df,\n",
    "                        locations='state_code', \n",
    "                        locationmode=\"USA-states\", \n",
    "                        scope=\"usa\",\n",
    "                        color=col,\n",
    "                        color_continuous_scale=\"Viridis_r\", \n",
    "                        title=title\n",
    "                        )\n",
    "    fig.show()\n",
    "\n"
   ]
  },
  {
   "cell_type": "markdown",
   "metadata": {},
   "source": [
    "### Animated and map plots"
   ]
  },
  {
   "cell_type": "code",
   "execution_count": null,
   "metadata": {},
   "outputs": [],
   "source": []
  },
  {
   "cell_type": "code",
   "execution_count": null,
   "metadata": {},
   "outputs": [],
   "source": []
  },
  {
   "cell_type": "code",
   "execution_count": null,
   "metadata": {},
   "outputs": [],
   "source": []
  },
  {
   "cell_type": "code",
   "execution_count": null,
   "metadata": {},
   "outputs": [],
   "source": []
  },
  {
   "cell_type": "code",
   "execution_count": null,
   "metadata": {},
   "outputs": [],
   "source": []
  },
  {
   "cell_type": "code",
   "execution_count": null,
   "metadata": {},
   "outputs": [],
   "source": []
  }
 ],
 "metadata": {
  "kernelspec": {
   "display_name": "Python 3.7.7 64-bit",
   "language": "python",
   "name": "python3"
  },
  "language_info": {
   "codemirror_mode": {
    "name": "ipython",
    "version": 3
   },
   "file_extension": ".py",
   "mimetype": "text/x-python",
   "name": "python",
   "nbconvert_exporter": "python",
   "pygments_lexer": "ipython3",
   "version": "3.7.7"
  },
  "vscode": {
   "interpreter": {
    "hash": "6f17db48aa853750bfee38181acc93506773951f4f6f179b65dfa4e5104417bd"
   }
  }
 },
 "nbformat": 4,
 "nbformat_minor": 4
}
