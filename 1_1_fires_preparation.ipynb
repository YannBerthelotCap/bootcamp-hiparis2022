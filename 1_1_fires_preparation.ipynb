{
 "cells": [
  {
   "cell_type": "code",
   "execution_count": 1,
   "metadata": {},
   "outputs": [],
   "source": [
    "import pandas as pd\n",
    "import numpy as np\n",
    "from datetime import datetime\n",
    "from utils import check_duplicates"
   ]
  },
  {
   "cell_type": "code",
   "execution_count": 2,
   "metadata": {},
   "outputs": [],
   "source": [
    "checks = {True:\"OK\", False: \"NOK\"}"
   ]
  },
  {
   "cell_type": "markdown",
   "metadata": {},
   "source": [
    "### Step 1. Data Cleaning"
   ]
  },
  {
   "cell_type": "markdown",
   "metadata": {},
   "source": [
    "Fires: Table including wildfire data for the period of 1992-2015 compiled from US federal, state, and local reporting systems.\n",
    "\n",
    "#### Identifier\n",
    "* [x] FOD_ID = Global unique identifier.\n",
    "\n",
    "#### Fire\n",
    "* [x] FIRE_CODE = Code used within the interagency wildland fire community to track and compile cost information for emergency fire suppression (https://www.firecode.gov/).\n",
    "* [x] FIRE_NAME = Name of the incident, from the fire report (primary) or ICS-209 report (secondary).\n",
    "* [x] FIRE_SIZE = Estimate of acres within the final perimeter of the fire.\n",
    "* [x] FIRESIZECLASS = Code for fire size based on the number of acres within the final fire perimeter expenditures (A=greater than 0 but less than or equal to 0.25 acres, B=0.26-9.9 acres, C=10.0-99.9 acres, D=100-299 acres, E=300 to 999 acres, F=1000 to 4999 acres, and G=5000+ acres).\n",
    "* ICS209INCIDENT_NUMBER = Incident (event) identifier, from the ICS-209 report.\n",
    "* ICS209NAME = Name of the incident, from the ICS-209 report.\n",
    "* MTBS_ID = Incident identifier, from the MTBS perimeter dataset.\n",
    "* MTBSFIRENAME = Name of the incident, from the MTBS perimeter dataset.\n",
    "* COMPLEX_NAME = Name of the complex under which the fire was ultimately managed, when discernible.\n",
    "\n",
    "#### Dates\n",
    "* [x] FIRE_YEAR = Calendar year in which the fire was discovered or confirmed to exist.\n",
    "* [x] DISCOVERY_DATE = Date on which the fire was discovered or confirmed to exist.\n",
    "* [x] DISCOVERY_TIME = Time of day that the fire was discovered or confirmed to exist.\n",
    "* [x] CONT_DATE = Date on which the fire was declared contained or otherwise controlled (mm/dd/yyyy where mm=month, dd=day, and yyyy=year).\n",
    "* [x] CONT_TIME = Time of day that the fire was declared contained or otherwise controlled (hhmm where hh=hour, mm=minutes).\n",
    "* DISCOVERY_DOY = Day of year on which the fire was discovered or confirmed to exist.\n",
    "* CONT_DOY = Day of year on which the fire was declared contained or otherwise controlled.\n",
    "\n",
    "\n",
    "#### Place\n",
    "* [x] LATITUDE = Latitude (NAD83) for point location of the fire (decimal degrees).\n",
    "* [x] LONGITUDE = Longitude (NAD83) for point location of the fire (decimal degrees).\n",
    "* [x] STATE = Two-letter alphabetic code for the state in which the fire burned (or originated), based on the nominal designation in the fire report.\n",
    "* [x] COUNTY = County, or equivalent, in which the fire burned (or originated), based on nominal designation in the fire report.\n",
    "* [x] FIPS_CODE = Three-digit code from the Federal Information Process Standards (FIPS) publication 6-4 for representation of counties and equivalent entities.\n",
    "* [x] FIPS_NAME = County name from the FIPS publication 6-4 for representation of counties and equivalent entities.\n",
    "\n",
    "#### Cause\n",
    "* [x] CAUSE_CODE = Code for the cause of the fire.\n",
    "* [x] CAUSE_DESCR = Description of the cause of the fire.\n",
    "\n",
    "#### Source & Reporting\n",
    "* SOURCESYSTEMTYPE = Type of source database or system that the record was drawn from (federal, nonfederal, or interagency).\n",
    "* SOURCESYSTEM = Name of or other identifier for source database or system that the record was drawn from. See Table 1 in Short (2014), or \\Supplements\\FPAFODsourcelist.pdf, for a list of sources and their identifier.\n",
    "* NWCGREPORTINGAGENCY = Active National Wildlife Coordinating Group (NWCG) Unit Identifier for the agency preparing the fire report (BIA = Bureau of Indian Affairs, BLM = Bureau of Land Management, BOR = Bureau of Reclamation, DOD = Department of Defense, DOE = Department of Energy, FS = Forest Service, FWS = Fish and Wildlife Service, IA = Interagency Organization, NPS = National Park Service, ST/C&L = State, County, or Local Organization, and TRIBE = Tribal Organization).\n",
    "* NWCGREPORTINGUNIT_ID = Active NWCG Unit Identifier for the unit preparing the fire report.\n",
    "* NWCGREPORTINGUNIT_NAME = Active NWCG Unit Name for the unit preparing the fire report.\n",
    "* SOURCEREPORTINGUNIT = Code for the agency unit preparing the fire report, based on code/name in the source dataset.\n",
    "* SOURCEREPORTINGUNIT_NAME = Name of reporting agency unit preparing the fire report, based on code/name in the source dataset.\n",
    "* LOCALFIREREPORT_ID = Number or code that uniquely identifies an incident report for a particular reporting unit and a particular calendar year.\n",
    "* LOCALINCIDENTID = Number or code that uniquely identifies an incident for a particular local fire management organization within a particular calendar year.\n",
    "* OWNER_CODE = Code for primary owner or entity responsible for managing the land at the point of origin of the fire at the time of the incident.\n",
    "* OWNER_DESCR = Name of primary owner or entity responsible for managing the land at the point of origin of the fire at the time of the incident."
   ]
  },
  {
   "cell_type": "code",
   "execution_count": 3,
   "metadata": {},
   "outputs": [],
   "source": [
    "def convert_datetime(x: pd.Series, opt: str) -> datetime:\n",
    "    '''\n",
    "    Create a datetime column for a DataFrame, based on dates and times. \n",
    "\n",
    "    Input:\n",
    "    x (pd.Series): row of the input DataFrame\n",
    "    opt (str): options for the columns name. Either \"DISCOVERY\" or \"CONT\".\n",
    "\n",
    "    Output:\n",
    "    (datetime): output datetime\n",
    "    '''\n",
    "    if (not np.isnan(x[opt + \"_TIME\"])) & (not pd.isnull(x[opt + \"_DATE\"])):\n",
    "        t = str(int(x[opt + \"_TIME\"])).rjust(4,\"0\")\n",
    "        d = x[opt + \"_DATE\"].strftime(\"%Y-%m-%d\")\n",
    "        dt = datetime.strptime(f\"{d} {t[:2]}:{t[2:]}\", \"%Y-%m-%d %H:%M\")\n",
    "        return dt\n",
    "\n",
    "def cleaning_fires(fires: pd.DataFrame, cols:list) -> pd.DataFrame:\n",
    "    '''\n",
    "    Clean the input dataframe, by converting dates and selecting columns\n",
    "\n",
    "    Input:\n",
    "    fires (pd.DataFrame): input DataFrame\n",
    "    cols (list): list of columns to keep\n",
    "\n",
    "    Output:\n",
    "    (pd.DataFrame): cleaned DataFrame\n",
    "    '''\n",
    "    # select useful columns\n",
    "    fires = fires.loc[:,cols]\n",
    "\n",
    "    # convert dates from Julian to Gregorian format\n",
    "    for c in [\"DISCOVERY_DATE\", \"CONT_DATE\"]:\n",
    "        fires[c] = pd.to_datetime(fires[c] - pd.Timestamp(0).to_julian_date(), unit='D')\n",
    "\n",
    "    # convert time if available\n",
    "    for option in [\"DISCOVERY\", \"CONT\"]:\n",
    "        fires[option + \"_TIME\"] = fires.apply(lambda x: convert_datetime(x, option), axis=1)\n",
    "    \n",
    "    return fires\n",
    "\n",
    "def feature_engineering_fires(fires: pd.DataFrame) -> pd.DataFrame:\n",
    "    '''\n",
    "    Compute new features based on the original features from the Fires dataset.\n",
    "\n",
    "    Input:\n",
    "    fires (pd.DataFrame): input DataFrame\n",
    "\n",
    "    Output:\n",
    "    (pd.DataFrame):  DataFrame with additional features\n",
    "    '''\n",
    "    # To Be Completed\n",
    "    fires[\"DURATION\"] = (fires[\"CONT_TIME\"] - fires[\"DISCOVERY_TIME\"]).dt.total_seconds()\n",
    "    \n",
    "    return fires"
   ]
  },
  {
   "cell_type": "code",
   "execution_count": 4,
   "metadata": {},
   "outputs": [
    {
     "name": "stderr",
     "output_type": "stream",
     "text": [
      "c:\\Users\\fbettini\\AppData\\Local\\Programs\\Python\\Python37\\lib\\site-packages\\IPython\\core\\interactiveshell.py:3258: DtypeWarning: Columns (9,10,12,34) have mixed types.Specify dtype option on import or set low_memory=False.\n",
      "  interactivity=interactivity, compiler=compiler, result=result)\n"
     ]
    },
    {
     "name": "stdout",
     "output_type": "stream",
     "text": [
      "Check duplicates: OK\n"
     ]
    }
   ],
   "source": [
    "cols = [\n",
    "    'FOD_ID', 'FIRE_YEAR', 'DISCOVERY_DATE', 'DISCOVERY_TIME',\n",
    "    'CONT_DATE', 'CONT_TIME', 'FIRE_SIZE', 'FIRE_SIZE_CLASS',\n",
    "    'LATITUDE', 'LONGITUDE', 'STATE', 'CAUSE_CODE', 'CAUSE_DESCR'\n",
    "]\n",
    "\n",
    "# cleaning and feature engineering\n",
    "fires = pd.read_csv(\"./data/1_raw/fires/fires_train.csv\")\n",
    "fires = cleaning_fires(fires, cols) # clean file\n",
    "fires = feature_engineering_fires(fires) # feature_engineering\n",
    "\n",
    "# check duplicate values\n",
    "c = checks.get(check_duplicates(fires, [\"FOD_ID\"]), False)\n",
    "print(f\"Check duplicates: {c}\")\n",
    "\n",
    "# save to csv\n",
    "fires.to_csv(\"./data/2_clean/fires.csv\", index=False)"
   ]
  }
 ],
 "metadata": {
  "kernelspec": {
   "display_name": "Python 3.7.7 64-bit",
   "language": "python",
   "name": "python3"
  },
  "language_info": {
   "codemirror_mode": {
    "name": "ipython",
    "version": 3
   },
   "file_extension": ".py",
   "mimetype": "text/x-python",
   "name": "python",
   "nbconvert_exporter": "python",
   "pygments_lexer": "ipython3",
   "version": "3.7.7"
  },
  "orig_nbformat": 4,
  "vscode": {
   "interpreter": {
    "hash": "6f17db48aa853750bfee38181acc93506773951f4f6f179b65dfa4e5104417bd"
   }
  }
 },
 "nbformat": 4,
 "nbformat_minor": 2
}
