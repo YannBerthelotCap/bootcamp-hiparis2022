{
 "cells": [
  {
   "cell_type": "code",
   "execution_count": 1,
   "metadata": {},
   "outputs": [],
   "source": [
    "import pandas as pd\n",
    "import numpy as np\n",
    "from utils import check_duplicates"
   ]
  },
  {
   "cell_type": "code",
   "execution_count": 2,
   "metadata": {},
   "outputs": [],
   "source": [
    "checks = {True:\"OK\", False: \"NOK\"}"
   ]
  },
  {
   "cell_type": "markdown",
   "metadata": {},
   "source": [
    "#### Step 1. Read data"
   ]
  },
  {
   "cell_type": "code",
   "execution_count": 3,
   "metadata": {},
   "outputs": [
    {
     "name": "stderr",
     "output_type": "stream",
     "text": [
      "c:\\Users\\fbettini\\AppData\\Local\\Programs\\Python\\Python37\\lib\\site-packages\\IPython\\core\\interactiveshell.py:3258: DtypeWarning: Columns (1,17) have mixed types.Specify dtype option on import or set low_memory=False.\n",
      "  interactivity=interactivity, compiler=compiler, result=result)\n"
     ]
    }
   ],
   "source": [
    "# select an option to compute the distance\n",
    "opt_dist = \"haversine\" # other possible value is \"euclidean\"\n",
    "\n",
    "# keep useful columns\n",
    "external_data = pd.read_csv(\"./data/2_clean/external_data.csv\", parse_dates=[\"Date\"])\n",
    "city_names = external_data[[\"City_name\", \"Lat\", \"Lon\"]].drop_duplicates()\n",
    "\n",
    "# from fires\n",
    "fires = pd.read_csv(\"./data/2_clean/fires.csv\", parse_dates=[\"DISCOVERY_DATE\", \"CONT_DATE\"])"
   ]
  },
  {
   "cell_type": "markdown",
   "metadata": {},
   "source": [
    "### Step 2. Compute the closest state (Euclidean distance)"
   ]
  },
  {
   "cell_type": "markdown",
   "metadata": {},
   "source": [
    "##### Compute the shortest state, based on latitude and longitude"
   ]
  },
  {
   "cell_type": "markdown",
   "metadata": {},
   "source": [
    "#### First implementation: Euclidean distance"
   ]
  },
  {
   "cell_type": "code",
   "execution_count": 4,
   "metadata": {},
   "outputs": [],
   "source": [
    "\n",
    "def get_cities_location(city_names: pd.DataFrame, opt_dist: str = \"haversine\") -> dict:\n",
    "    '''\n",
    "    Return a dictionary with keys corresponding to cities' names and values corresponding to location.\n",
    "    For haversine, values will be a tuple (lattitude, longitude)\n",
    "    For euclidean, values will be an array np.array((lattitude, longitude))\n",
    "    \n",
    "    Input:\n",
    "    city_names (pd.DataFrame) : \n",
    "    opt_dist (str) : The desired option to compute the distance. Options are \"haversine\" or \"euclidean\".\n",
    "    \n",
    "    Output:\n",
    "    (dict) : dictionary with keys corresponding to cities' names and values corresponding to location.\n",
    "    \n",
    "    '''\n",
    "    if opt_dist == \"haversine\":\n",
    "        return {key:(lat, lon) for key,lat,lon in zip(city_names[\"City_name\"], city_names[\"Lat\"], city_names[\"Lon\"])}\n",
    "    elif opt_dist == \"euclidean\":\n",
    "        return {key:np.array((lat, lon)) for key,lat,lon in zip(city_names[\"City_name\"], city_names[\"Lat\"], city_names[\"Lon\"])}\n",
    "\n",
    "\n",
    "def find_closest_city_euclidean(x: pd.Series, cities_loc: dict) -> list:\n",
    "    '''\n",
    "    Find the closest city from cities_names based on the Latitude and Longitude, with the euclidean distance.\n",
    "    \n",
    "    Input:\n",
    "    x (pd.Series) : Raw input, with Longitude and Latitude as attributes\n",
    "    cities_loc (dict) : dictionary with keys corresponding to cities' names and values corresponding to location.\n",
    "    \n",
    "    Output:\n",
    "    closest_city (str) : name of the closest city\n",
    "    dist (float) : distance from the city\n",
    "    \n",
    "    '''\n",
    "    dist = 9999999 # arbitrary large value\n",
    "    closest_name = None\n",
    "    point = np.array((x[\"LATITUDE\"], x[\"LONGITUDE\"]))\n",
    "    for city, target_city in cities_loc.items():\n",
    "        new_dist = np.linalg.norm(point-target_city)\n",
    "        if new_dist < dist:\n",
    "            closest_city = city\n",
    "            dist = new_dist\n",
    "    return [closest_city, dist]\n",
    "\n",
    "\n",
    "def haversine(lat1:float, lon1:float, lat2:float, lon2:float, earth_radius:int = 6371, p:float = 0.017453292519943295) -> float:\n",
    "    '''\n",
    "    Compute the Haversine distance between two points\n",
    "    \n",
    "    Input:\n",
    "    lat1 (float) : lattitude of point 1\n",
    "    lon1 (float) : longitude of point 1\n",
    "    lat2 (float) : lattitude of point 2\n",
    "    lon2 (float) : longitude of point 2\n",
    "    earth_radius (int) : radius of the Earth (km)\n",
    "    p : value of pi / 2, to compute angles in radius\n",
    "    \n",
    "    Output:\n",
    "    (float) : haversine distance between the points\n",
    "    \n",
    "    '''\n",
    "    hav = 0.5 - np.cos((lat2-lat1)*p)/2 + np.cos(lat1*p)*np.cos(lat2*p) * (1-np.cos((lon2-lon1)*p)) / 2\n",
    "    return 2 * earth_radius * np.arcsin(np.sqrt(hav))\n",
    "\n",
    "\n",
    "def find_closest_city_haversine(x: pd.Series, cities_loc: dict) -> list:\n",
    "    '''\n",
    "    Find the closest city from cities_names based on the Latitude and Longitude, with the haversine distance.\n",
    "    \n",
    "    Input:\n",
    "    x (pd.Series) : Raw input, with Longitude and Latitude as attributes\n",
    "    cities_loc (dict) : dictionary with keys corresponding to cities' names and values corresponding to location.\n",
    "    \n",
    "    Output:\n",
    "    closest_city (str) : name of the closest city\n",
    "    dist (float) : distance from the city\n",
    "    \n",
    "    '''\n",
    "    dist = 9999999 # arbitrary large value\n",
    "    closest_name = None\n",
    "    for id, (lat2, lon2) in cities_loc.items():\n",
    "        new_dist = haversine(x[\"LATITUDE\"], x[\"LONGITUDE\"], lat2, lon2)\n",
    "        if new_dist < dist:\n",
    "            closest_name = id\n",
    "            dist = new_dist\n",
    "    return [closest_name, dist]\n",
    "\n",
    "\n",
    "def find_closest_city(fires: pd.DataFrame, opt_dist: str) -> pd.DataFrame:\n",
    "    '''\n",
    "    Add 2 new columns to the fires DataFrame, 1 with the name of the closest city from a given location, and 1 with the distance from this city.\n",
    "    \n",
    "    Input:\n",
    "    fires (pd.DataFrame) : input DataFrame with all fires records\n",
    "    opt_dist (str) : The desired option to compute the distance. Options are \"haversine\" or \"euclidean\".\n",
    "    \n",
    "    Output:\n",
    "    (pd.DataFrame) : processed DataFrame\n",
    "    '''\n",
    "    # get a dictionnary with cities and locations\n",
    "    cities_loc = get_cities_location(city_names, opt_dist)\n",
    "\n",
    "    # around 11 mins for the execution for euclidean, and 23 mins for haversine\n",
    "    if opt_dist == \"euclidean\":\n",
    "        fires[[\"CLOSEST_CITY\", \"DISTANCE\"]] = fires.apply(lambda x: find_closest_city_euclidean(x, cities_loc), axis=1, result_type=\"expand\")\n",
    "    elif opt_dist == \"haversine\":\n",
    "        fires[[\"CLOSEST_CITY\", \"DISTANCE\"]] = fires.apply(lambda x: find_closest_city_haversine(x, cities_loc), axis=1, result_type=\"expand\")\n",
    "\n",
    "    return fires\n",
    "\n"
   ]
  },
  {
   "cell_type": "code",
   "execution_count": 5,
   "metadata": {},
   "outputs": [],
   "source": [
    "# compute closest city\n",
    "fires_city = find_closest_city(fires, opt_dist)"
   ]
  },
  {
   "cell_type": "code",
   "execution_count": 6,
   "metadata": {},
   "outputs": [
    {
     "name": "stdout",
     "output_type": "stream",
     "text": [
      "Check duplicates: OK\n"
     ]
    }
   ],
   "source": [
    "# merge fires and external data\n",
    "merge_data = pd.merge(fires_city, external_data, how=\"left\", left_on=[\"DISCOVERY_DATE\", \"CLOSEST_CITY\"], right_on=[\"Date\", \"City_name\"])\n",
    "merge_data = merge_data.drop(columns=[\"City_name\", \"Date\"])\n",
    "\n",
    "# check duplicate values\n",
    "c = checks.get(check_duplicates(merge_data, [\"FOD_ID\"]), False)\n",
    "print(f\"Check duplicates: {c}\")"
   ]
  },
  {
   "cell_type": "code",
   "execution_count": 7,
   "metadata": {},
   "outputs": [],
   "source": [
    "merge_data.to_csv(f\"./data/3_merge/merged_data_{opt_dist}.csv\", index=False)"
   ]
  }
 ],
 "metadata": {
  "kernelspec": {
   "display_name": "Python 3.7.7 64-bit",
   "language": "python",
   "name": "python3"
  },
  "language_info": {
   "codemirror_mode": {
    "name": "ipython",
    "version": 3
   },
   "file_extension": ".py",
   "mimetype": "text/x-python",
   "name": "python",
   "nbconvert_exporter": "python",
   "pygments_lexer": "ipython3",
   "version": "3.7.7"
  },
  "orig_nbformat": 4,
  "vscode": {
   "interpreter": {
    "hash": "6f17db48aa853750bfee38181acc93506773951f4f6f179b65dfa4e5104417bd"
   }
  }
 },
 "nbformat": 4,
 "nbformat_minor": 2
}
